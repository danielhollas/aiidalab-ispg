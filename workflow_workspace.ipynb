{
 "cells": [
  {
   "cell_type": "code",
   "execution_count": null,
   "id": "2cfaa17e",
   "metadata": {},
   "outputs": [],
   "source": [
    "%aiida"
   ]
  },
  {
   "cell_type": "code",
   "execution_count": null,
   "id": "d40237d6",
   "metadata": {},
   "outputs": [],
   "source": [
    "from aiidalab_atmospec_workchain import OrcaWignerSpectrumWorkChain\n",
    "from aiida.engine import WorkChain, calcfunction\n",
    "from aiida.engine import submit, run, append_, ToContext, if_\n",
    "\n",
    "StructureData = DataFactory(\"structure\")\n",
    "TrajectoryData = DataFactory(\"array.trajectory\")"
   ]
  },
  {
   "cell_type": "code",
   "execution_count": null,
   "id": "e019ab5f",
   "metadata": {},
   "outputs": [],
   "source": [
    "# Unfortunately, variadic arguments are not supported in calcfunctions\n",
    "# We'll need to use a full workchain with dynamic namespace for this\n",
    "\n",
    "#@calcfunction\n",
    "#def concatenate_outputs(*arg):\n",
    "#    pass\n",
    "\n",
    "class AtmospecWorkChain(WorkChain):\n",
    "    \"\"\"The top-level ATMOSPEC workchain\"\"\"\n",
    "    \n",
    "    @classmethod\n",
    "    def define(cls, spec):\n",
    "        super().define(spec)\n",
    "        spec.expose_inputs(OrcaWignerSpectrumWorkChain, exclude=[\"structure\"])\n",
    "        spec.input(\"structure\", valid_type=(StructureData, TrajectoryData))\n",
    "        \n",
    "        spec.expose_outputs(OrcaWignerSpectrumWorkChain, exclude=[\"relaxed_structure\"])\n",
    "        \n",
    "        spec.outline(\n",
    "            cls.setup,\n",
    "            cls.launch,\n",
    "            cls.collect,\n",
    "        )\n",
    "        \n",
    "        spec.output(\"orca_outputs\", valid_type=List, required=False, help=\"Outputs from all conformers\")\n",
    "        spec.output(\n",
    "            \"relaxed_structures\", \n",
    "            valid_type=TrajectoryData,\n",
    "            required=False,\n",
    "            help=\"Minimized structures of all conformers\"\n",
    "        )\n",
    "        \n",
    "        # Very generic error now\n",
    "        spec.exit_code(410, \"CONFORMER_ERROR\", \"Conformer spectrum generation failed\")\n",
    "        \n",
    "    def setup(self):\n",
    "        pass\n",
    "    \n",
    "    def collect(self):\n",
    "        # For single conformer\n",
    "        if isinstance(self.inputs.structure, StructureData):\n",
    "            if not self.ctx.conf.is_finished_ok:\n",
    "                return self.exit_codes.CONFORMER_ERROR\n",
    "            self.out_many(self.exposed_outputs(self.ctx.conf, OrcaWignerSpectrumWorkChain))\n",
    "            return\n",
    "        \n",
    "        for wc in self.ctx.confs:\n",
    "            # TODO: Specialize erros. Can we expose errors from child workflows?\n",
    "            if not wc.is_finished_ok:\n",
    "                return self.exit_codes.CONFORMER_ERROR\n",
    "          \n",
    "        # TODO: Collect output dictionaries\n",
    "        \n",
    "        # TODO: Include energies and boltzmann weights in TrajectoryData for optimized structures\n",
    "        if self.inputs.optimize:\n",
    "            structs = [workchain.outputs.relaxed_structure for workchain in self.ctx.confs]\n",
    "            # TODO: Preserve provenance via ConcatenateOutputs workchain\n",
    "            self.out(\"relaxed_structures\", TrajectoryData(structurelist=structs).store())\n",
    "        \n",
    "        self.out_many(self.exposed_outputs(self.ctx.confs[0], OrcaWignerSpectrumWorkChain))\n",
    "\n",
    "    def launch(self):\n",
    "        inputs = self.exposed_inputs(\n",
    "            OrcaWignerSpectrumWorkChain, agglomerate=False\n",
    "        )\n",
    "        # Single conformer\n",
    "        # TODO: Test this!\n",
    "        if isinstance(self.inputs.structure, StructureData):\n",
    "            self.report(\"Launching ATMOSPEC for 1 conformer\")\n",
    "            inputs.structure = self.inputs.structure\n",
    "            return ToContext(conf=self.submit(OrcaWignerSpectrumWorkChain, **inputs))\n",
    "        \n",
    "        self.report(f\"Launching ATMOSPEC for {len(self.inputs.structure.get_stepids())} conformers\")\n",
    "        for conf_id in self.inputs.structure.get_stepids():\n",
    "            inputs.structure = self.inputs.structure.get_step_structure(conf_id)\n",
    "            workflow = self.submit(OrcaWignerSpectrumWorkChain, **inputs)\n",
    "            #workflow.label = 'conformer-wigner-spectrum'\n",
    "            self.to_context(confs=append_(workflow))"
   ]
  },
  {
   "cell_type": "code",
   "execution_count": null,
   "id": "85ae0094",
   "metadata": {},
   "outputs": [],
   "source": [
    "builder = AtmospecWorkChain.get_builder()\n",
    "old_workchain = load_node(pk=1218)\n",
    "builder[\"structure\"] = old_workchain.inputs.structure\n",
    "for input in old_workchain.inputs:\n",
    "    if input != 'structure':\n",
    "        builder[input] = old_workchain.inputs[input]\n",
    "\n",
    "builder.optimize = Bool(True)\n",
    "builder.opt.clean_workdir = Bool(True)\n",
    "builder.exc.clean_workdir = Bool(True)\n",
    "builder.opt.orca.metadata.options.resources = {'tot_num_mpiprocs': 1}\n",
    "builder.exc.orca.metadata.options.resources = {'tot_num_mpiprocs': 1}"
   ]
  },
  {
   "cell_type": "code",
   "execution_count": null,
   "id": "01736449",
   "metadata": {},
   "outputs": [],
   "source": [
    "builder"
   ]
  },
  {
   "cell_type": "code",
   "execution_count": null,
   "id": "57378d6d",
   "metadata": {},
   "outputs": [],
   "source": [
    "proc = run(builder)"
   ]
  },
  {
   "cell_type": "code",
   "execution_count": null,
   "id": "1d544392",
   "metadata": {},
   "outputs": [],
   "source": [
    "proc = load_node(pk=1456)"
   ]
  },
  {
   "cell_type": "code",
   "execution_count": null,
   "id": "54c37290",
   "metadata": {},
   "outputs": [],
   "source": [
    "for output in proc.outputs:\n",
    "    print(output)"
   ]
  },
  {
   "cell_type": "markdown",
   "id": "0547ef41",
   "metadata": {},
   "source": [
    "# Now test more than one conformer"
   ]
  },
  {
   "cell_type": "code",
   "execution_count": null,
   "id": "b987119c",
   "metadata": {},
   "outputs": [],
   "source": [
    "builder = AtmospecWorkChain.get_builder()\n",
    "old_workchain = load_node(pk=226)\n",
    "builder.structure = old_workchain.inputs.structure\n",
    "for input in old_workchain.inputs:\n",
    "    if input != 'structure':\n",
    "        builder[input] = old_workchain.inputs[input]\n",
    "        \n",
    "# Patch the inputs to reduct comp cost\n",
    "builder.nwigner = 2\n",
    "\n",
    "params = builder.opt.orca.parameters.get_dict()\n",
    "params['input_keywords'] = ['sto-3g', 'pbe', 'Opt', 'AnFreq']\n",
    "builder.opt.orca.parameters = Dict(dict=params)\n",
    "\n",
    "params = builder.exc.orca.parameters.get_dict()\n",
    "params['input_keywords'] = ['sto-3g', 'pbe']\n",
    "builder.exc.orca.parameters = Dict(dict=params)\n",
    "\n",
    "# Not sure why this is not already included\n",
    "builder.opt.orca.metadata.options.resources = {'tot_num_mpiprocs': 1}\n",
    "builder.exc.orca.metadata.options.resources = {'tot_num_mpiprocs': 1}"
   ]
  },
  {
   "cell_type": "code",
   "execution_count": null,
   "id": "21223b4a",
   "metadata": {},
   "outputs": [],
   "source": [
    "proc = run(builder)"
   ]
  },
  {
   "cell_type": "code",
   "execution_count": null,
   "id": "3c31cdfc",
   "metadata": {},
   "outputs": [],
   "source": []
  }
 ],
 "metadata": {
  "kernelspec": {
   "display_name": "Python 3 (ipykernel)",
   "language": "python",
   "name": "python3"
  },
  "language_info": {
   "codemirror_mode": {
    "name": "ipython",
    "version": 3
   },
   "file_extension": ".py",
   "mimetype": "text/x-python",
   "name": "python",
   "nbconvert_exporter": "python",
   "pygments_lexer": "ipython3",
   "version": "3.7.9"
  }
 },
 "nbformat": 4,
 "nbformat_minor": 5
}
