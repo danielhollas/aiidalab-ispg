{
 "cells": [
  {
   "cell_type": "code",
   "execution_count": 4,
   "metadata": {},
   "outputs": [
    {
     "data": {
      "application/javascript": [
       "IPython.OutputArea.prototype._should_scroll = function(lines) {\n",
       "    return false;\n",
       "}\n",
       "// Note that this must be in its own cell\n"
      ],
      "text/plain": [
       "<IPython.core.display.Javascript object>"
      ]
     },
     "metadata": {},
     "output_type": "display_data"
    }
   ],
   "source": [
    "%%javascript\n",
    "IPython.OutputArea.prototype._should_scroll = function(lines) {\n",
    "    return false;\n",
    "}\n",
    "// Note that this must be in its own cell"
   ]
  },
  {
   "cell_type": "code",
   "execution_count": 5,
   "metadata": {},
   "outputs": [],
   "source": [
    "# External imports\n",
    "import ipywidgets as ipw\n",
    "#from jinja2 import Environment\n",
    "#from importlib_resources import files\n",
    "\n",
    "from aiida.orm import StructureData\n",
    "from aiida.orm import load_node\n",
    "from aiidalab_widgets_base import StructureBrowserWidget, StructureManagerWidget, StructureUploadWidget\n",
    "from aiidalab_widgets_base import SmilesWidget\n",
    "from aiidalab_widgets_base import BasicStructureEditor\n",
    "from aiidalab_widgets_base import WizardAppWidget\n",
    "#from aiidalab_widgets_base.bug_report import install_create_github_issue_exception_handler"
   ]
  },
  {
   "cell_type": "code",
   "execution_count": 6,
   "metadata": {
    "scrolled": false
   },
   "outputs": [
    {
     "data": {
      "application/vnd.jupyter.widget-view+json": {
       "model_id": "fb2c61f091cf47c3bca8447e73c27aac",
       "version_major": 2,
       "version_minor": 0
      },
      "text/plain": [
       "VBox(children=(WorkChainSelector(children=(HTML(value='<b>Select workflow or start new:</b>&nbsp;'), Dropdown(…"
      ]
     },
     "metadata": {},
     "output_type": "display_data"
    }
   ],
   "source": [
    "from aiidalab_ispg.process import WorkChainSelector\n",
    "from aiidalab_ispg.steps import SubmitOrcaAppWorkChainStep\n",
    "from aiidalab_ispg.structures import StructureSelectionStep\n",
    "from aiidalab_ispg.steps import ViewOrcaAppWorkChainStatusAndResultsStep\n",
    "from aiidalab_ispg.steps import ViewSpectrumStep\n",
    "\n",
    "# DH: Our own hacked molecule viewer\n",
    "from aiidalab_ispg.widget_viewers.viewers import StructureDataViewer\n",
    "\n",
    "# DH This is for later for importing Jinja templates and styles\n",
    "#from aiidalab_ispg import static\n",
    "\n",
    "structure_manager_widget = StructureManagerWidget(\n",
    "    importers=[\n",
    "        StructureUploadWidget(title=\"Upload file\"),\n",
    "        SmilesWidget(title='SMILES'),\n",
    "        StructureBrowserWidget(title=\"AiiDA database\"),\n",
    "    ],\n",
    "    node_class='StructureData',\n",
    "    viewer=StructureDataViewer(downloadable=False,storable=False),\n",
    "#    editors = [\n",
    "#        BasicStructureEditor(title=\"Basic Editor\"),\n",
    "#    ],\n",
    ")\n",
    "\n",
    "structure_selection_step = StructureSelectionStep(manager=structure_manager_widget)\n",
    "structure_selection_step.auto_advance = True\n",
    "\n",
    "submit_orca_work_chain_step = SubmitOrcaAppWorkChainStep()\n",
    "submit_orca_work_chain_step.auto_advance = True\n",
    "\n",
    "view_orca_work_chain_status_and_results_step = ViewOrcaAppWorkChainStatusAndResultsStep()\n",
    "view_orca_work_chain_status_and_results_step.auto_advance = True\n",
    "\n",
    "view_spectrum_step = ViewSpectrumStep()\n",
    "\n",
    "# Link the application steps\n",
    "ipw.dlink((structure_selection_step, 'confirmed_structure'), (submit_orca_work_chain_step, 'input_structure'))\n",
    "ipw.dlink((submit_orca_work_chain_step, 'process'), (view_orca_work_chain_status_and_results_step, 'process'))\n",
    "ipw.dlink((view_orca_work_chain_status_and_results_step, 'process'), (view_spectrum_step, 'process'))\n",
    "\n",
    "# Add the application steps to the application\n",
    "app = WizardAppWidget(\n",
    "    steps=[\n",
    "        ('Select structure', structure_selection_step),\n",
    "        ('Submit work chain', submit_orca_work_chain_step),\n",
    "        ('Status & Results', view_orca_work_chain_status_and_results_step),\n",
    "        ('Spectrum', view_spectrum_step),\n",
    "    ])\n",
    "\n",
    "# Reset all subsequent steps in case that a new structure is selected\n",
    "def _observe_structure_selection(change):\n",
    "    with structure_selection_step.hold_sync():\n",
    "        if structure_selection_step.confirmed_structure is not None and \\\n",
    "                structure_selection_step.confirmed_structure != change['new']:\n",
    "            app.reset()\n",
    "structure_selection_step.observe(_observe_structure_selection, 'structure')\n",
    "\n",
    "# Add process selection header\n",
    "work_chain_selector = WorkChainSelector(layout=ipw.Layout(width='auto'))\n",
    "def _observe_process_selection(change):\n",
    "    if change['old'] == change['new']:\n",
    "        return\n",
    "    pk = change['new']\n",
    "    if pk is None:\n",
    "        app.reset()\n",
    "        app.selected_index = 0\n",
    "    else:\n",
    "        process = load_node(pk)\n",
    "        with structure_manager_widget.hold_sync():\n",
    "            with structure_selection_step.hold_sync():\n",
    "                structure_manager_widget.structure = process.inputs.structure\n",
    "                structure_selection_step.structure = process.inputs.structure\n",
    "                structure_selection_step.confirmed_structure = process.inputs.structure\n",
    "                submit_orca_work_chain_step.process = process\n",
    "\n",
    "work_chain_selector.observe(_observe_process_selection, 'value')    \n",
    "ipw.dlink((submit_orca_work_chain_step, 'process'), (work_chain_selector, 'value'),\n",
    "          transform=lambda node: None if node is None else node.pk)\n",
    "\n",
    "\n",
    "app_with_work_chain_selector = ipw.VBox(children=[work_chain_selector, app])\n",
    "\n",
    "display(app_with_work_chain_selector)"
   ]
  },
  {
   "cell_type": "code",
   "execution_count": null,
   "metadata": {},
   "outputs": [],
   "source": []
  }
 ],
 "metadata": {
  "kernelspec": {
   "display_name": "Python 3 (ipykernel)",
   "language": "python",
   "name": "python3"
  },
  "language_info": {
   "codemirror_mode": {
    "name": "ipython",
    "version": 3
   },
   "file_extension": ".py",
   "mimetype": "text/x-python",
   "name": "python",
   "nbconvert_exporter": "python",
   "pygments_lexer": "ipython3",
   "version": "3.8.10"
  }
 },
 "nbformat": 4,
 "nbformat_minor": 2
}
